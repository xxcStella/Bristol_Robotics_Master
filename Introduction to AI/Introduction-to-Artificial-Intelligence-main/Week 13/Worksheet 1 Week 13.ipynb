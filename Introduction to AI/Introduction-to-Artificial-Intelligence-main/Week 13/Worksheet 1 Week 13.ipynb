{
 "cells": [
  {
   "cell_type": "markdown",
   "metadata": {},
   "source": [
    "# Introduction\n",
    "This worksheet covers material from week 13. You will write functions to implement evaluation metrics for classification and regression problems. You will:\n",
    " - Use library functions from scikit-learn (https://scikit-learn.org/stable/)\n",
    " - Use NumPy and matplotlib\n",
    " - Write and call functions in Python\n",
    " - Gain understanding of the evaluation metrics used.\n",
    "\n",
    "\n",
    "Scikit-learn (https://scikit-learn.org/stable/) is a Python library with a wide range of ML algorithms. We will be using some of these algorithms during this course, but we will also be looking at the principles behind the algorithms in order to understand these rather than simply applying functions from libraries."
   ]
  },
  {
   "cell_type": "markdown",
   "metadata": {},
   "source": [
    "# 0. Preliminaries\n",
    "We firstly import NumPy and matplotlib as we will be using these throughout the worksheet. We use a 'magic' function `%matplotlib inline` to display plots in the worksheet."
   ]
  },
  {
   "cell_type": "code",
   "execution_count": 8,
   "metadata": {},
   "outputs": [],
   "source": [
    "import numpy as np\n",
    "import matplotlib.pyplot as plt\n",
    "import pandas as pd\n",
    "%matplotlib inline"
   ]
  },
  {
   "cell_type": "markdown",
   "metadata": {},
   "source": [
    "# 1. Classification\n",
    "In this question you will use a toy dataset from scikit-learn. You will use functions from scikit-learn to load the data, divide it into training and testing sets, and then fit a simple classifier to the training set. You will then write functions to calculate accuracy, precision, and recall. Finally, you will check your functions against the functions from scikit-learn.\n",
    "\n",
    "## Part a) Load the data"
   ]
  },
  {
   "cell_type": "code",
   "execution_count": 2,
   "metadata": {},
   "outputs": [],
   "source": [
    "# scikit-learn comes with a number of toy datasets (https://sklearn.org/datasets/index.html#toy-datasets)\n",
    "from sklearn import datasets\n",
    "\n",
    "# Load the wine dataset from sklearn. You may want to take a look at the format of the dataset\n",
    "wine = datasets.load_wine()\n",
    "\n",
    "# Save the datapoints into the variable X and the targets into the variable y\n",
    "X = wine.data\n",
    "y = wine.target"
   ]
  },
  {
   "cell_type": "code",
   "execution_count": null,
   "metadata": {},
   "outputs": [],
   "source": []
  },
  {
   "cell_type": "markdown",
   "metadata": {},
   "source": [
    "Take a look at the target values in y. What do you notice about these? Why are these suitable for a classification algorithm rather than a regression algorithm?"
   ]
  },
  {
   "cell_type": "code",
   "execution_count": 130,
   "metadata": {
    "scrolled": true
   },
   "outputs": [
    {
     "name": "stdout",
     "output_type": "stream",
     "text": [
      "[3 2 0 ... 1 3 1]\n",
      "(2000,)\n",
      "<class 'numpy.ndarray'>\n",
      "{0, 1, 2, 3}\n"
     ]
    }
   ],
   "source": [
    "#  Look at the values in y\n",
    "##TODO##\n",
    "print(y)\n",
    "print(y.shape)\n",
    "print(type(y))\n",
    "\n",
    "set_y=set(y)\n",
    "print(set_y)"
   ]
  },
  {
   "cell_type": "markdown",
   "metadata": {},
   "source": [
    "## Part b) Divide the data into training and testing sets\n",
    "Use the function `train_test_split` from `sklearn.model_selection` to split out the data and targets into training and testing sets."
   ]
  },
  {
   "cell_type": "code",
   "execution_count": 13,
   "metadata": {},
   "outputs": [],
   "source": [
    "# We import the function train_test_split from sklearn and use this to split the data\n",
    "from sklearn.model_selection import train_test_split\n",
    "\n",
    "# The function returns splits of each array passed in. \n",
    "# The proportion to be used as the training set is given by test_size\n",
    "X_train, X_test, y_train, y_test = train_test_split(X, y, test_size=0.2)"
   ]
  },
  {
   "cell_type": "markdown",
   "metadata": {},
   "source": [
    "## Part c) Import the k-nearest neighbours classifier and run it on the data\n",
    "Scikit-learn has a huge range of *estimators* that you can use with your dataset. An estimator is any procedure that can be used to fit data and make predictions from it. Here we will import the k-nearest neighbours classifier, instantiate it, run it on our training set, and then use it to generate some predictions. You will learn more about k-nearest neighbours in Week 14. For now, we are simply using it to generate some predictions.\n",
    "\n",
    "The general procedure for using the estimators in scikit-learn is as follows. Every estimator has a method `fit(X, y)` and a method `predict(T)`. \n",
    "\n",
    "1) Import the estimator\n",
    "    e.g. `from sklearn.models import Classifier`\n",
    "    \n",
    "2) Instantiate the estimator to a variable\n",
    "    e.g. `est = Classifier(hparams)`\n",
    "    \n",
    "3) Fit the estimator to the data\n",
    "    e.g. `est.fit(X, y)`\n",
    "    \n",
    "4) Make a prediction\n",
    "    e.g. `predictions = est.predict(test_data)`\n",
    "    \n",
    "You can see an example of this in the code below:"
   ]
  },
  {
   "cell_type": "code",
   "execution_count": 14,
   "metadata": {
    "scrolled": true
   },
   "outputs": [],
   "source": [
    "# We first import the classifier\n",
    "from sklearn.neighbors import KNeighborsClassifier\n",
    "\n",
    "# We instantiate the classifier with 5 neighbours\n",
    "knn = KNeighborsClassifier(n_neighbors=5)\n",
    "\n",
    "# We fit the model using our training data\n",
    "knn.fit(X_train, y_train)\n",
    "\n",
    "# Finally, we generate predictions on the test data\n",
    "ypred_test=knn.predict(X_test)"
   ]
  },
  {
   "cell_type": "code",
   "execution_count": 27,
   "metadata": {},
   "outputs": [
    {
     "name": "stdout",
     "output_type": "stream",
     "text": [
      "[0 2 2 2 1 0 1 0 0 0 1 2 2 0 2 1 0 0 2 0 0 0 1 2 1 0 1 2 0 0 0 2 1 1 1 0]\n",
      "[[0.2 0.2 0.6]]\n"
     ]
    }
   ],
   "source": [
    "print(ypred_test)\n",
    "print(knn.predict_proba([X_test[1]]))"
   ]
  },
  {
   "cell_type": "markdown",
   "metadata": {},
   "source": [
    "## Part d) Evaluating the classifier\n",
    "In this section we will implement functions for accuracy, precision and recall, and compare them with the functions given in sklearn (they should give the same results!)\n",
    "\n",
    "The wine dataset has 3 classes. We will write functions to compute the accuracy of the classifer, the macro-averaged precision and the macro-averaged recall.\n",
    "\n",
    "Recall the equations for accuracy, precision, and recall:\n",
    "\n",
    "$$Accuracy = \\frac{\\text{Number correct}}{\\text{Total datapoints}}$$\n",
    "i.e. the number of correctly classified datapoints as a proportion of all $n$ datapoints\n",
    "\n",
    "$$Precision_c = \\frac{TP_c}{TP_c+FP_c}$$\n",
    "i.e. the precision for class $c$ is the number of true positives for class $c$ as a proportion of the total number of positive predictions for class $c$\n",
    "\n",
    "$$Recall_c = \\frac{TP_c}{TP_c+FN_c}$$\n",
    "i.e. the recall for class $c$ is the number of true positives for class $c$ as a proportion of the total number of actual positives for class $c$\n",
    "\n",
    "The macro-averaged precision and macro-averaged recall are then simply calculated by averaging the precision (or recall) for each class:\n",
    "\n",
    "$$Precision = \\frac{1}{k} \\sum_{c = 1}^k Precision_c, \\quad Recall = \\frac{1}{k} \\sum_{c = 1}^k Recall_c$$\n",
    "\n",
    "We can automatically generate the confusion matrix for our data using the function `confusion_matrix` from `sklearn.metrics`"
   ]
  },
  {
   "cell_type": "code",
   "execution_count": 28,
   "metadata": {},
   "outputs": [],
   "source": [
    "# Import the function confusion_matrix\n",
    "from sklearn.metrics import confusion_matrix\n",
    "\n",
    "#Build the confusion matrix from the target test set y_test and our predicted values ypred_test\n",
    "cm = confusion_matrix(y_test, ypred_test)"
   ]
  },
  {
   "cell_type": "markdown",
   "metadata": {},
   "source": [
    "Take a look at the confusion matrix. What should its dimensions be? "
   ]
  },
  {
   "cell_type": "code",
   "execution_count": 29,
   "metadata": {
    "scrolled": true
   },
   "outputs": [
    {
     "data": {
      "text/plain": [
       "array([[11,  0,  1],\n",
       "       [ 2,  7,  5],\n",
       "       [ 3,  3,  4]], dtype=int64)"
      ]
     },
     "execution_count": 29,
     "metadata": {},
     "output_type": "execute_result"
    }
   ],
   "source": [
    "# Look at the confusion matrix cm\n",
    "##TODO##\n",
    "cm"
   ]
  },
  {
   "cell_type": "code",
   "execution_count": 40,
   "metadata": {},
   "outputs": [
    {
     "data": {
      "text/plain": [
       "16"
      ]
     },
     "execution_count": 40,
     "metadata": {},
     "output_type": "execute_result"
    }
   ],
   "source": [
    "np.sum(cm[:,0])"
   ]
  },
  {
   "cell_type": "markdown",
   "metadata": {},
   "source": [
    "(**Optional**) Write a function `my_accuracy` that takes in two arrays `y` for target values and `pred` for predicted  values, and returns accuracy."
   ]
  },
  {
   "cell_type": "code",
   "execution_count": 35,
   "metadata": {},
   "outputs": [],
   "source": [
    "def my_accuracy(y, pred):\n",
    "    # Write your answer here\n",
    "    from sklearn.metrics import confusion_matrix\n",
    "    cm = confusion_matrix(y,pred)\n",
    "    n = cm.shape[0]\n",
    "    \n",
    "    all_true=0\n",
    "    for i in range(n):\n",
    "        all_true = all_true + cm[i,i]\n",
    "    \n",
    "    all_data = np.sum(cm)\n",
    "    \n",
    "    acc = all_true / all_data\n",
    "    return acc"
   ]
  },
  {
   "cell_type": "markdown",
   "metadata": {},
   "source": [
    "(**Optional**) Write a function `my_recall_macro` that takes in two arrays `y` for target values and `pred` for predicted  values, and returns recall. "
   ]
  },
  {
   "cell_type": "code",
   "execution_count": 45,
   "metadata": {},
   "outputs": [],
   "source": [
    "def my_recall_macro(y, pred):\n",
    "    recalls = []\n",
    "    cm = confusion_matrix(y, pred)\n",
    "    # Write your answer here\n",
    "    n = cm.shape[0]\n",
    "    \n",
    "    for i in range(n):\n",
    "        TP = cm[i,i]\n",
    "        TP_FN = np.sum(cm[i])\n",
    "        recall_i = TP / TP_FN\n",
    "        recalls.append(recall_i)\n",
    "    \n",
    "    return np.mean(recalls)      "
   ]
  },
  {
   "cell_type": "markdown",
   "metadata": {},
   "source": [
    "(**Optional**) Write a function `my_precision_macro` that takes in two arrays `y` for target values and `pred` for predicted  values, and returns precision. "
   ]
  },
  {
   "cell_type": "code",
   "execution_count": 48,
   "metadata": {},
   "outputs": [],
   "source": [
    "def my_precision_macro(y, pred):\n",
    "    # Write your answer here\n",
    "    precisions = []\n",
    "    cm = confusion_matrix(y,pred)\n",
    "    n = cm.shape[0]\n",
    "    \n",
    "    for i in range(n):\n",
    "        TP = cm[i,i]\n",
    "        TP_FP = np.sum(cm[:,i])\n",
    "        precision_i = TP / TP_FP\n",
    "        precisions.append(precision_i)\n",
    "    \n",
    "    return np.mean(precisions)"
   ]
  },
  {
   "cell_type": "markdown",
   "metadata": {},
   "source": [
    "(**Optional**) Check that your functions match those in sklearn."
   ]
  },
  {
   "cell_type": "code",
   "execution_count": 36,
   "metadata": {},
   "outputs": [
    {
     "data": {
      "text/plain": [
       "True"
      ]
     },
     "execution_count": 36,
     "metadata": {},
     "output_type": "execute_result"
    }
   ],
   "source": [
    "from sklearn.metrics import precision_score, recall_score, accuracy_score\n",
    "my_accuracy(y_test, ypred_test) == accuracy_score(y_test, ypred_test)"
   ]
  },
  {
   "cell_type": "code",
   "execution_count": 47,
   "metadata": {},
   "outputs": [
    {
     "data": {
      "text/plain": [
       "True"
      ]
     },
     "execution_count": 47,
     "metadata": {},
     "output_type": "execute_result"
    }
   ],
   "source": [
    "my_recall_macro(y_test, ypred_test)==recall_score(y_test, ypred_test, average='macro')"
   ]
  },
  {
   "cell_type": "code",
   "execution_count": 49,
   "metadata": {},
   "outputs": [
    {
     "data": {
      "text/plain": [
       "True"
      ]
     },
     "execution_count": 49,
     "metadata": {},
     "output_type": "execute_result"
    }
   ],
   "source": [
    "my_precision_macro(y_test, ypred_test)==precision_score(y_test, ypred_test, average='macro')"
   ]
  },
  {
   "cell_type": "markdown",
   "metadata": {},
   "source": [
    "# 2. Regression\n",
    "\n",
    "In this question we will use sklearn to fit a linear model to some artificial data. You will then implement a function to calculate the mean squared error and a function to calculate $r^2$.\n",
    "\n",
    "The model we fit is just a line, i.e. $y = ax + b$. \n",
    "\n",
    "## Part a) Create an artificial dataset\n",
    "We start off by creating some artificial data that is a line with some noise added."
   ]
  },
  {
   "cell_type": "code",
   "execution_count": 50,
   "metadata": {},
   "outputs": [],
   "source": [
    "# We set up a random number generator (rng), seeded with a number (in this case 10). \n",
    "# Using a seed means we can generate the same sequence of pseudorandom numbers, and so we can check results easily.\n",
    "rng = np.random.default_rng(10) \n",
    "\n",
    "# a and b are coefficients for the line\n",
    "a = 2\n",
    "b = -1\n",
    "\n",
    "# Use np.linspace to generate datapoints from 0 to 10 (inclusive) spaced at 0.1\n",
    "X = np.linspace(0, 10, 101) \n",
    "\n",
    "# Create data Y using the equation for a line\n",
    "Y = a*X + b\n",
    "\n",
    "# Adds Gaussian noise with mean 0 and standard deviation 3 to the data\n",
    "Y = Y + 3*rng.standard_normal(len(Y)) "
   ]
  },
  {
   "cell_type": "markdown",
   "metadata": {},
   "source": [
    "## Part b) Plot the data on named axes"
   ]
  },
  {
   "cell_type": "code",
   "execution_count": 91,
   "metadata": {},
   "outputs": [
    {
     "data": {
      "text/plain": [
       "Text(0, 0.5, 'y')"
      ]
     },
     "execution_count": 91,
     "metadata": {},
     "output_type": "execute_result"
    },
    {
     "data": {
      "image/png": "[encoded data removed]",
      "text/plain": [
       "<Figure size 432x288 with 1 Axes>"
      ]
     },
     "metadata": {
      "needs_background": "light"
     },
     "output_type": "display_data"
    }
   ],
   "source": [
    "fig, ax = plt.subplots() # This generates us a named figure and axes\n",
    "ax.scatter(X, Y, label = 'Data') # We generate a scatterplot of the data on the axes.\n",
    "plt.xlabel('x')\n",
    "plt.ylabel('y')"
   ]
  },
  {
   "cell_type": "markdown",
   "metadata": {},
   "source": [
    "## Part c) Split the data into training and testing sets\n",
    "Split the data X and targets Y into training and testing sets using the function `train_test_split`. Set the proportion of the dataset to use as test data to 0.1."
   ]
  },
  {
   "cell_type": "code",
   "execution_count": 63,
   "metadata": {},
   "outputs": [],
   "source": [
    "# Write your answer here\n",
    "##TODO##\n",
    "from sklearn.model_selection import train_test_split\n",
    "X_train, X_test, y_train, y_test = train_test_split(X, Y, test_size = 0.1)"
   ]
  },
  {
   "cell_type": "code",
   "execution_count": 64,
   "metadata": {},
   "outputs": [
    {
     "data": {
      "text/plain": [
       "(90,)"
      ]
     },
     "execution_count": 64,
     "metadata": {},
     "output_type": "execute_result"
    }
   ],
   "source": [
    "X_train.shape"
   ]
  },
  {
   "cell_type": "markdown",
   "metadata": {},
   "source": [
    "## Part d) Instantiate and fit the estimator\n",
    "Import the estimator `LinearRegression` from `sklearn.linear_model` and instantiate it. No parameters are needed."
   ]
  },
  {
   "cell_type": "code",
   "execution_count": 65,
   "metadata": {},
   "outputs": [],
   "source": [
    "# Write your answer here\n",
    "##TODO##\n",
    "from sklearn.linear_model import LinearRegression\n",
    "lg = LinearRegression()"
   ]
  },
  {
   "cell_type": "markdown",
   "metadata": {},
   "source": [
    "You will need to reshape the data (but not the targets) before passing it to this model. "
   ]
  },
  {
   "cell_type": "code",
   "execution_count": 67,
   "metadata": {},
   "outputs": [],
   "source": [
    "# This reshapes the data to have 1 column and however many rows make sense for the data\n",
    "X_train = X_train.reshape(-1, 1)"
   ]
  },
  {
   "cell_type": "markdown",
   "metadata": {},
   "source": [
    "Call the method `fit` with your training data to train the model"
   ]
  },
  {
   "cell_type": "code",
   "execution_count": 71,
   "metadata": {},
   "outputs": [
    {
     "data": {
      "text/plain": [
       "LinearRegression()"
      ]
     },
     "execution_count": 71,
     "metadata": {},
     "output_type": "execute_result"
    }
   ],
   "source": [
    "# Write your answer here\n",
    "##TODO##\n",
    "lg.fit(X_train, y_train)"
   ]
  },
  {
   "cell_type": "markdown",
   "metadata": {},
   "source": [
    "The coefficient(s) and intercept for the trained model ($a$ and $b$ in our case) are called `coef_` and `intercept_`. Are these what you would expect? Are they similar to the values of `a` and `b` that we used to generate the data?"
   ]
  },
  {
   "cell_type": "code",
   "execution_count": 72,
   "metadata": {},
   "outputs": [
    {
     "name": "stdout",
     "output_type": "stream",
     "text": [
      "[2.1023091]\n",
      "-2.1649360889799105\n"
     ]
    }
   ],
   "source": [
    "# Look at coef_ and intercept_\n",
    "##TODO###\n",
    "print(lg.coef_)\n",
    "print(lg.intercept_)"
   ]
  },
  {
   "cell_type": "markdown",
   "metadata": {},
   "source": [
    "Using the values stored in `coef_` and `intercept_`, plot a line representing the fitted model on the same axes (`ax`) as before. Type `fig` to view the plot."
   ]
  },
  {
   "cell_type": "code",
   "execution_count": 92,
   "metadata": {},
   "outputs": [
    {
     "data": {
      "image/png": "[encoded data removed]",
      "text/plain": [
       "<Figure size 432x288 with 1 Axes>"
      ]
     },
     "execution_count": 92,
     "metadata": {},
     "output_type": "execute_result"
    }
   ],
   "source": [
    "# Write your answer here \n",
    "##TODO###\n",
    "x = np.arange(0,10,0.1)\n",
    "y = lg.coef_ * x + lg.intercept_\n",
    "ax.plot(x,y,'r',label='prediction')\n",
    "fig.legend(loc='upper left')\n",
    "fig"
   ]
  },
  {
   "cell_type": "markdown",
   "metadata": {},
   "source": [
    "Reshape the test data to have one column and then call `predict` on the regression model to get the predicted y values"
   ]
  },
  {
   "cell_type": "code",
   "execution_count": 94,
   "metadata": {},
   "outputs": [],
   "source": [
    "X_test = X_test.reshape(-1, 1)\n",
    "# Call predict on the regression model and assign the output to \n",
    "# a variable ypred\n",
    "##TODO###\n",
    "y_pred = lg.predict(X_test)"
   ]
  },
  {
   "cell_type": "code",
   "execution_count": 97,
   "metadata": {
    "scrolled": true
   },
   "outputs": [
    {
     "name": "stdout",
     "output_type": "stream",
     "text": [
      "[ 1.40898938 -0.48308881 15.07399851 14.8637676   9.60799485 12.7614585\n",
      "  5.82383848 12.34099668 18.85815488  5.19314575 -1.53424336]\n",
      "[-3.15505509  2.02555093 15.02554271 16.75824     6.36809933 11.5074973\n",
      "  8.41529246 14.6352283  18.40165891 10.62691233  0.40092757]\n"
     ]
    }
   ],
   "source": [
    "print(y_pred)\n",
    "print(y_test)"
   ]
  },
  {
   "cell_type": "code",
   "execution_count": 98,
   "metadata": {},
   "outputs": [
    {
     "data": {
      "text/plain": [
       "(11,)"
      ]
     },
     "execution_count": 98,
     "metadata": {},
     "output_type": "execute_result"
    }
   ],
   "source": [
    "y_pred.shape"
   ]
  },
  {
   "cell_type": "markdown",
   "metadata": {},
   "source": [
    "## (Optional) Part e) Calculating mean squared error\n",
    "The equation for the mean squared error is \n",
    "$$ MSE = \\frac{\\sum_{i = 1}^n (y_i - f(x_i))^2}{n} $$\n",
    "Write a function that takes in arrays for the target values `y` and the predicted values `pred` and returns the mean squared error."
   ]
  },
  {
   "cell_type": "code",
   "execution_count": 101,
   "metadata": {},
   "outputs": [],
   "source": [
    "# Fill in the body of the function\n",
    "def MSE(y, pred):\n",
    "    ##TODO###\n",
    "    n = y.shape[0]\n",
    "    sum = 0\n",
    "    for i in range(n):\n",
    "        sum = sum + (y[i] - pred[i])**2\n",
    "    return sum / n"
   ]
  },
  {
   "cell_type": "markdown",
   "metadata": {},
   "source": [
    "Check your function against the function `mean_squared_error` from `sklearn.metrics`"
   ]
  },
  {
   "cell_type": "code",
   "execution_count": 102,
   "metadata": {},
   "outputs": [
    {
     "data": {
      "text/plain": [
       "True"
      ]
     },
     "execution_count": 102,
     "metadata": {},
     "output_type": "execute_result"
    }
   ],
   "source": [
    "# Write your answer here\n",
    "##TODO###\n",
    "from sklearn.metrics import mean_squared_error\n",
    "MSE(y_test, y_pred) == mean_squared_error(y_test, y_pred)"
   ]
  },
  {
   "cell_type": "markdown",
   "metadata": {},
   "source": [
    "## (Optional) Part f) Calculating R^2\n",
    "Recall from the lecture that $R^2$ is defined as\n",
    "\n",
    "$$R^2(y, \\hat{y})) = 1 - \\frac{\\sum_{i=1}^{n} (y_i - \\hat{y}_i)^2}{\\sum_{i=1}^{n} (y_i - \\bar{y})^2}$$\n",
    "\n",
    "This represents the proportion of the variance of y that is explained by the independent variables in the model. It is essentially a comparison of the fitted model with the mean of the target values ($\\bar{y}$). Implement your own function to calculate $R^2$ and then compare it with `r2_score` from `sklearn.metrics`"
   ]
  },
  {
   "cell_type": "code",
   "execution_count": 108,
   "metadata": {},
   "outputs": [],
   "source": [
    "# Fill in the body of the function\n",
    "def rsq(y, pred):\n",
    "    ##TODO###\n",
    "    n = y.shape[0]\n",
    "    y_mean = np.mean(y_test)\n",
    "    \n",
    "    sum_up = 0\n",
    "    sum_down =0\n",
    "    \n",
    "    for i in range(n):\n",
    "        sum_up = sum_up + (y[i] - pred[i])**2\n",
    "        sum_down = sum_down + (y[i] - y_mean)**2\n",
    "    \n",
    "    return (1 - sum_up / sum_down)"
   ]
  },
  {
   "cell_type": "code",
   "execution_count": 112,
   "metadata": {},
   "outputs": [
    {
     "data": {
      "text/plain": [
       "True"
      ]
     },
     "execution_count": 112,
     "metadata": {},
     "output_type": "execute_result"
    }
   ],
   "source": [
    "# Compare with sklearn.metrics.r2_score\n",
    "##TODO###\n",
    "from sklearn.metrics import r2_score\n",
    "round(rsq(y_test, y_pred), 10) == round(r2_score(y_test, y_pred), 10)"
   ]
  },
  {
   "cell_type": "code",
   "execution_count": 114,
   "metadata": {},
   "outputs": [
    {
     "name": "stdout",
     "output_type": "stream",
     "text": [
      "0.8245018193456674\n",
      "0.8245018193456675\n",
      "-1.1102230246251565e-16\n"
     ]
    }
   ],
   "source": [
    "print(r2_score(y_test, y_pred))\n",
    "print(rsq(y_test, y_pred))\n",
    "print(r2_score(y_test, y_pred) - rsq(y_test, y_pred))"
   ]
  },
  {
   "cell_type": "markdown",
   "metadata": {},
   "source": [
    "# 3. Using cross-validation for model selection\n",
    "\n",
    "In this section we will fit a series of classifiers with different parameter settings, and use k-fold cross validation to select the most appropriate parameter values. We will use a *decision tree* classifier. We will cover this classifier in more detail in future lectures. For now, all you need to know is that a decision tree has a parameter `max_depth` that says how many layers the tree may have. More layers means that the tree can divide up the feature space into finer classes, but this could come at the expense of overfitting."
   ]
  },
  {
   "cell_type": "markdown",
   "metadata": {},
   "source": [
    "## Part a) \n",
    "We first of all create an artificial dataset with 2000 samples, 10 features, and 4 classes."
   ]
  },
  {
   "cell_type": "code",
   "execution_count": 115,
   "metadata": {},
   "outputs": [],
   "source": [
    "from sklearn.datasets import make_classification\n",
    "X, y = make_classification(n_samples = 2000, n_features = 10, n_classes=4, n_informative = 3, random_state=10)"
   ]
  },
  {
   "cell_type": "markdown",
   "metadata": {},
   "source": [
    "Use the function `train_test_split` to separate out 0.2 of your dataset. This will be kept aside as our held-out test set."
   ]
  },
  {
   "cell_type": "code",
   "execution_count": 116,
   "metadata": {},
   "outputs": [],
   "source": [
    "# Write your answer here\n",
    "# Write your answer here. \n",
    "# Assign the splits to variables Xtr, Xtest, ytr, ytest\n",
    "# Xtr, Xtest, ytr, ytest = ###TODO###\n",
    "from sklearn.model_selection import train_test_split\n",
    "Xtr, Xtest, ytr, ytest = train_test_split(X, y, test_size = 0.2)"
   ]
  },
  {
   "cell_type": "markdown",
   "metadata": {},
   "source": [
    "### Part b) Setting up k-fold cross validation\n",
    "We import the function `KFold` from `sklearn.model_selection`, and instantiate it with 10 folds."
   ]
  },
  {
   "cell_type": "code",
   "execution_count": 118,
   "metadata": {},
   "outputs": [],
   "source": [
    "from sklearn.model_selection import KFold\n",
    "kf = KFold(n_splits=10, random_state=63, shuffle=True)"
   ]
  },
  {
   "cell_type": "markdown",
   "metadata": {},
   "source": [
    "### Part c) Running cross-validation for different parameter settings\n",
    "We import the decision tree classifier and run it over depths from 1 to `max_d`. For each depth we run cross-validation over the training set."
   ]
  },
  {
   "cell_type": "code",
   "execution_count": 122,
   "metadata": {},
   "outputs": [],
   "source": [
    "arr=[[] for _ in range(5)]"
   ]
  },
  {
   "cell_type": "code",
   "execution_count": 123,
   "metadata": {},
   "outputs": [
    {
     "data": {
      "text/plain": [
       "[[], [], [], [], []]"
      ]
     },
     "execution_count": 123,
     "metadata": {},
     "output_type": "execute_result"
    }
   ],
   "source": [
    "arr"
   ]
  },
  {
   "cell_type": "code",
   "execution_count": 127,
   "metadata": {},
   "outputs": [],
   "source": [
    "from sklearn.tree import DecisionTreeClassifier\n",
    "max_d = 20\n",
    "#Set up variables to store training and validation accuracies. \n",
    "train_accuracies = [[] for _ in range(max_d)]\n",
    "val_accuracies = [[] for _ in range(max_d)]\n",
    "\n",
    "# Loop over depths\n",
    "for d in range(max_d):\n",
    "    #Instantiate the DecisionTreeClassifier here. Set the parameter max_depth to d+1\n",
    "    #We add 1 because d ranges from 0 to max_d-1, but we want depths from 1 to max_d\n",
    "    clf = DecisionTreeClassifier(max_depth=d+1)\n",
    "    \n",
    "    #Loop over cross-validation splits. Note that we perform cross validation on our training data Xtr.\n",
    "    #We keep our testing data Xtest aside\n",
    "    for train_index, val_index in kf.split(Xtr):\n",
    "        Xtrain, Xval = Xtr[train_index], Xtr[val_index]\n",
    "        ytrain, yval = ytr[train_index], ytr[val_index]\n",
    "        \n",
    "        #Fit the classifier on Xtrain and Ytrain\n",
    "        ###TODO###\n",
    "        clf = clf.fit(Xtrain, ytrain)\n",
    "\n",
    "        #Make predictions on Xtrain and assign to a variable pred_train\n",
    "        ###TODO###\n",
    "        pred_train = clf.predict(Xtrain)\n",
    "\n",
    "        #Make predictions on Xval and assign to a variable pred_val\n",
    "        ###TODO###\n",
    "        pred_val = clf.predict(Xval)\n",
    "        \n",
    "        #Calculate the accuracy of the predictions on the training set and save in the variable train_accuracies\n",
    "        train_accuracies[d].append(accuracy_score(ytrain, pred_train))\n",
    "        \n",
    "        #Do the same for the predictions on the validation set\n",
    "        ###TODO###\n",
    "        val_accuracies[d].append(accuracy_score(yval, pred_val))\n",
    "\n",
    "#Calculate the mean and standard deviation for each depth across splits \n",
    "train_accuracy_mean = np.mean(train_accuracies, axis=1)\n",
    "# Complete the lines and uncomment\n",
    "train_accuracy_stdev = np.std(train_accuracies, axis=1)\n",
    "val_accuracy_mean = np.mean(val_accuracies, axis=1)\n",
    "val_accuracy_stdev = np.std(val_accuracies, axis=1)\n",
    "\n",
    "# The arrays of means and standard deviation should have shape (max_d, ). The following will generate an error if not.\n",
    "assert(np.shape(train_accuracy_mean)==(max_d,))\n",
    "assert(np.shape(train_accuracy_stdev)==(max_d,))\n",
    "assert(np.shape(val_accuracy_mean)==(max_d,))\n",
    "assert(np.shape(val_accuracy_stdev)==(max_d,))"
   ]
  },
  {
   "cell_type": "code",
   "execution_count": 132,
   "metadata": {},
   "outputs": [
    {
     "data": {
      "text/plain": [
       "(20,)"
      ]
     },
     "execution_count": 132,
     "metadata": {},
     "output_type": "execute_result"
    }
   ],
   "source": [
    "train_accuracy_mean.shape"
   ]
  },
  {
   "attachments": {
    "image-2.png": {
     "image/png": "[encoded data removed]"
    }
   },
   "cell_type": "markdown",
   "metadata": {},
   "source": [
    "### Plotting results\n",
    "\n",
    "Plot the mean accuracy attained on the training set and on the validation set at each depth. Your figure should look something like the following:\n",
    "\n",
    "![image-2.png](attachment:image-2.png)\n",
    "\n",
    "What do you notice about these results? Which value of max_depth would you use for your held-out test set?"
   ]
  },
  {
   "cell_type": "code",
   "execution_count": 165,
   "metadata": {},
   "outputs": [
    {
     "data": {
      "image/png": "[encoded data removed]",
      "text/plain": [
       "<Figure size 432x288 with 1 Axes>"
      ]
     },
     "metadata": {
      "needs_background": "light"
     },
     "output_type": "display_data"
    }
   ],
   "source": [
    "# Write code to plot your results here\n",
    "fig, ax = plt.subplots()\n",
    "x_axis = np.arange(1,21)\n",
    "ax.plot(x_axis, train_accuracy_mean, label='Training Accuracy')\n",
    "ax.plot(x_axis, val_accuracy_mean, label='Validation Accuracy')\n",
    "plt.xlabel('Tree Depth')\n",
    "plt.ylabel('Mean Accuracy')\n",
    "fig.legend(loc='lower right', borderaxespad=4)\n",
    "plt.grid()"
   ]
  },
  {
   "cell_type": "markdown",
   "metadata": {},
   "source": [
    "### Computing accuracy on the test set\n",
    "Based on your plotted results, decide on the best value of `max_depth` to use in your decision tree classifier. Instantiate a new classifier with your chosen value. Fit the model on the training data. Make a prediction on the held-out test data, and calculate the accuracy on the test data. Is the accuracy what you expected? If not, why not?\n"
   ]
  },
  {
   "cell_type": "code",
   "execution_count": 149,
   "metadata": {},
   "outputs": [
    {
     "data": {
      "text/plain": [
       "0.7575"
      ]
     },
     "execution_count": 149,
     "metadata": {},
     "output_type": "execute_result"
    }
   ],
   "source": [
    "#Instantiate a new classifier with your chosen value of max_depth\n",
    "cl = DecisionTreeClassifier(max_depth = 2)\n",
    "#Fit the classifier on the training data\n",
    "cl.fit(Xtrain, ytrain)\n",
    "#Make a prediction on the test data\n",
    "pred = cl.predict(Xtest)\n",
    "#Calculate the accuracy on the test data\n",
    "accuracy_score(ytest, pred)"
   ]
  },
  {
   "cell_type": "code",
   "execution_count": 166,
   "metadata": {},
   "outputs": [
    {
     "data": {
      "text/plain": [
       "0.7575"
      ]
     },
     "execution_count": 166,
     "metadata": {},
     "output_type": "execute_result"
    }
   ],
   "source": [
    "cl.score(Xtest,ytest)"
   ]
  },
  {
   "cell_type": "markdown",
   "metadata": {},
   "source": [
    "### Cross-Validation using cross_val_score"
   ]
  },
  {
   "cell_type": "code",
   "execution_count": 172,
   "metadata": {},
   "outputs": [
    {
     "name": "stdout",
     "output_type": "stream",
     "text": [
      "[0.76388889 0.75       0.73611111 0.77777778 0.72916667]\n",
      "0.7513888888888889\n"
     ]
    }
   ],
   "source": [
    "from sklearn.tree import DecisionTreeClassifier\n",
    "from sklearn.model_selection import cross_val_score\n",
    "dt = DecisionTreeClassifier(max_depth = 2)\n",
    "cvs = cross_val_score(dt, Xtrain, ytrain, cv = 5)\n",
    "print(cvs)\n",
    "print(np.mean(cvs))"
   ]
  },
  {
   "cell_type": "code",
   "execution_count": 174,
   "metadata": {},
   "outputs": [
    {
     "data": {
      "text/plain": [
       "0.7575"
      ]
     },
     "execution_count": 174,
     "metadata": {},
     "output_type": "execute_result"
    }
   ],
   "source": [
    "dt = dt.fit(Xtrain, ytrain)\n",
    "dt.score(Xtest, ytest)"
   ]
  },
  {
   "cell_type": "code",
   "execution_count": 176,
   "metadata": {},
   "outputs": [],
   "source": [
    "train_score = []\n",
    "for i in range(1,21):\n",
    "    dt = DecisionTreeClassifier(max_depth = i)\n",
    "    cvs =  cross_val_score(dt, Xtrain, ytrain, cv = 5)   \n",
    "    train_score.append(np.mean(cvs))\n"
   ]
  },
  {
   "cell_type": "code",
   "execution_count": 183,
   "metadata": {},
   "outputs": [
    {
     "data": {
      "image/png": "[encoded data removed]",
      "text/plain": [
       "<Figure size 432x288 with 1 Axes>"
      ]
     },
     "metadata": {
      "needs_background": "light"
     },
     "output_type": "display_data"
    }
   ],
   "source": [
    "plt.figure()\n",
    "plt.plot(x_axis, train_score)\n",
    "plt.ylim([0.4, 1.0])\n",
    "plt.grid()"
   ]
  },
  {
   "cell_type": "code",
   "execution_count": null,
   "metadata": {},
   "outputs": [],
   "source": []
  },
  {
   "cell_type": "code",
   "execution_count": null,
   "metadata": {},
   "outputs": [],
   "source": []
  }
 ],
 "metadata": {
  "kernelspec": {
   "display_name": "base",
   "language": "python",
   "name": "python3"
  },
  "language_info": {
   "codemirror_mode": {
    "name": "ipython",
    "version": 3
   },
   "file_extension": ".py",
   "mimetype": "text/x-python",
   "name": "python",
   "nbconvert_exporter": "python",
   "pygments_lexer": "ipython3",
   "version": "3.8.5 (default, Sep  3 2020, 21:29:08) [MSC v.1916 64 bit (AMD64)]"
  },
  "vscode": {
   "interpreter": {
    "hash": "d9155ceff177f50abe3b91da551b19cfcc9c1e919cf48b80cd4f0d4b0c383b54"
   }
  }
 },
 "nbformat": 4,
 "nbformat_minor": 2
}
